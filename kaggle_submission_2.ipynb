{
 "cells": [
  {
   "cell_type": "markdown",
   "id": "46ae3253",
   "metadata": {
    "papermill": {
     "duration": 0.009645,
     "end_time": "2022-11-17T09:35:46.912405",
     "exception": false,
     "start_time": "2022-11-17T09:35:46.902760",
     "status": "completed"
    },
    "tags": []
   },
   "source": [
    "**This notebook is an exercise in the [Intermediate Machine Learning](https://www.kaggle.com/learn/intermediate-machine-learning) course.  You can reference the tutorial at [this link](https://www.kaggle.com/alexisbcook/missing-values).**\n",
    "\n",
    "---\n"
   ]
  },
  {
   "cell_type": "markdown",
   "id": "b1c9d92b",
   "metadata": {
    "papermill": {
     "duration": 0.007958,
     "end_time": "2022-11-17T09:35:46.929362",
     "exception": false,
     "start_time": "2022-11-17T09:35:46.921404",
     "status": "completed"
    },
    "tags": []
   },
   "source": [
    "Now it's your turn to test your new knowledge of **missing values** handling. You'll probably find it makes a big difference.\n",
    "\n",
    "# Setup\n",
    "\n",
    "The questions will give you feedback on your work. Run the following cell to set up the feedback system."
   ]
  },
  {
   "cell_type": "code",
   "execution_count": 1,
   "id": "a3512e2e",
   "metadata": {
    "execution": {
     "iopub.execute_input": "2022-11-17T09:35:46.948296Z",
     "iopub.status.busy": "2022-11-17T09:35:46.947538Z",
     "iopub.status.idle": "2022-11-17T09:35:46.997832Z",
     "shell.execute_reply": "2022-11-17T09:35:46.997013Z"
    },
    "papermill": {
     "duration": 0.063121,
     "end_time": "2022-11-17T09:35:47.000667",
     "exception": false,
     "start_time": "2022-11-17T09:35:46.937546",
     "status": "completed"
    },
    "tags": []
   },
   "outputs": [
    {
     "name": "stdout",
     "output_type": "stream",
     "text": [
      "Setup Complete\n"
     ]
    }
   ],
   "source": [
    "# Set up code checking\n",
    "import os\n",
    "if not os.path.exists(\"../input/train.csv\"):\n",
    "    os.symlink(\"../input/home-data-for-ml-course/train.csv\", \"../input/train.csv\")  \n",
    "    os.symlink(\"../input/home-data-for-ml-course/test.csv\", \"../input/test.csv\") \n",
    "from learntools.core import binder\n",
    "binder.bind(globals())\n",
    "from learntools.ml_intermediate.ex2 import *\n",
    "print(\"Setup Complete\")"
   ]
  },
  {
   "cell_type": "markdown",
   "id": "4295b2ee",
   "metadata": {
    "papermill": {
     "duration": 0.008024,
     "end_time": "2022-11-17T09:35:47.017388",
     "exception": false,
     "start_time": "2022-11-17T09:35:47.009364",
     "status": "completed"
    },
    "tags": []
   },
   "source": [
    "In this exercise, you will work with data from the [Housing Prices Competition for Kaggle Learn Users](https://www.kaggle.com/c/home-data-for-ml-course). \n",
    "\n",
    "![Ames Housing dataset image](https://i.imgur.com/lTJVG4e.png)\n",
    "\n",
    "Run the next code cell without changes to load the training and validation sets in `X_train`, `X_valid`, `y_train`, and `y_valid`.  The test set is loaded in `X_test`."
   ]
  },
  {
   "cell_type": "code",
   "execution_count": 2,
   "id": "6ccdec30",
   "metadata": {
    "execution": {
     "iopub.execute_input": "2022-11-17T09:35:47.036502Z",
     "iopub.status.busy": "2022-11-17T09:35:47.035698Z",
     "iopub.status.idle": "2022-11-17T09:35:48.034703Z",
     "shell.execute_reply": "2022-11-17T09:35:48.033388Z"
    },
    "papermill": {
     "duration": 1.011979,
     "end_time": "2022-11-17T09:35:48.037854",
     "exception": false,
     "start_time": "2022-11-17T09:35:47.025875",
     "status": "completed"
    },
    "tags": []
   },
   "outputs": [],
   "source": [
    "import pandas as pd\n",
    "from sklearn.model_selection import train_test_split\n",
    "\n",
    "# Read the data\n",
    "X_full = pd.read_csv('../input/train.csv', index_col='Id')\n",
    "X_test_full = pd.read_csv('../input/test.csv', index_col='Id')\n",
    "\n",
    "# Remove rows with missing target, separate target from predictors\n",
    "X_full.dropna(axis=0, subset=['SalePrice'], inplace=True)\n",
    "y = X_full.SalePrice\n",
    "X_full.drop(['SalePrice'], axis=1, inplace=True)\n",
    "\n",
    "# To keep things simple, we'll use only numerical predictors\n",
    "X = X_full.select_dtypes(exclude=['object'])\n",
    "X_test = X_test_full.select_dtypes(exclude=['object'])\n",
    "\n",
    "# Break off validation set from training data\n",
    "X_train, X_valid, y_train, y_valid = train_test_split(X, y, train_size=0.8, test_size=0.2,\n",
    "                                                      random_state=0)"
   ]
  },
  {
   "cell_type": "markdown",
   "id": "a58efcef",
   "metadata": {
    "papermill": {
     "duration": 0.008359,
     "end_time": "2022-11-17T09:35:48.060544",
     "exception": false,
     "start_time": "2022-11-17T09:35:48.052185",
     "status": "completed"
    },
    "tags": []
   },
   "source": [
    "Use the next code cell to print the first five rows of the data."
   ]
  },
  {
   "cell_type": "code",
   "execution_count": 3,
   "id": "4ad27940",
   "metadata": {
    "execution": {
     "iopub.execute_input": "2022-11-17T09:35:48.079378Z",
     "iopub.status.busy": "2022-11-17T09:35:48.079005Z",
     "iopub.status.idle": "2022-11-17T09:35:48.106251Z",
     "shell.execute_reply": "2022-11-17T09:35:48.104988Z"
    },
    "papermill": {
     "duration": 0.039866,
     "end_time": "2022-11-17T09:35:48.108903",
     "exception": false,
     "start_time": "2022-11-17T09:35:48.069037",
     "status": "completed"
    },
    "tags": []
   },
   "outputs": [
    {
     "data": {
      "text/html": [
       "<div>\n",
       "<style scoped>\n",
       "    .dataframe tbody tr th:only-of-type {\n",
       "        vertical-align: middle;\n",
       "    }\n",
       "\n",
       "    .dataframe tbody tr th {\n",
       "        vertical-align: top;\n",
       "    }\n",
       "\n",
       "    .dataframe thead th {\n",
       "        text-align: right;\n",
       "    }\n",
       "</style>\n",
       "<table border=\"1\" class=\"dataframe\">\n",
       "  <thead>\n",
       "    <tr style=\"text-align: right;\">\n",
       "      <th></th>\n",
       "      <th>MSSubClass</th>\n",
       "      <th>LotFrontage</th>\n",
       "      <th>LotArea</th>\n",
       "      <th>OverallQual</th>\n",
       "      <th>OverallCond</th>\n",
       "      <th>YearBuilt</th>\n",
       "      <th>YearRemodAdd</th>\n",
       "      <th>MasVnrArea</th>\n",
       "      <th>BsmtFinSF1</th>\n",
       "      <th>BsmtFinSF2</th>\n",
       "      <th>...</th>\n",
       "      <th>GarageArea</th>\n",
       "      <th>WoodDeckSF</th>\n",
       "      <th>OpenPorchSF</th>\n",
       "      <th>EnclosedPorch</th>\n",
       "      <th>3SsnPorch</th>\n",
       "      <th>ScreenPorch</th>\n",
       "      <th>PoolArea</th>\n",
       "      <th>MiscVal</th>\n",
       "      <th>MoSold</th>\n",
       "      <th>YrSold</th>\n",
       "    </tr>\n",
       "    <tr>\n",
       "      <th>Id</th>\n",
       "      <th></th>\n",
       "      <th></th>\n",
       "      <th></th>\n",
       "      <th></th>\n",
       "      <th></th>\n",
       "      <th></th>\n",
       "      <th></th>\n",
       "      <th></th>\n",
       "      <th></th>\n",
       "      <th></th>\n",
       "      <th></th>\n",
       "      <th></th>\n",
       "      <th></th>\n",
       "      <th></th>\n",
       "      <th></th>\n",
       "      <th></th>\n",
       "      <th></th>\n",
       "      <th></th>\n",
       "      <th></th>\n",
       "      <th></th>\n",
       "      <th></th>\n",
       "    </tr>\n",
       "  </thead>\n",
       "  <tbody>\n",
       "    <tr>\n",
       "      <th>619</th>\n",
       "      <td>20</td>\n",
       "      <td>90.0</td>\n",
       "      <td>11694</td>\n",
       "      <td>9</td>\n",
       "      <td>5</td>\n",
       "      <td>2007</td>\n",
       "      <td>2007</td>\n",
       "      <td>452.0</td>\n",
       "      <td>48</td>\n",
       "      <td>0</td>\n",
       "      <td>...</td>\n",
       "      <td>774</td>\n",
       "      <td>0</td>\n",
       "      <td>108</td>\n",
       "      <td>0</td>\n",
       "      <td>0</td>\n",
       "      <td>260</td>\n",
       "      <td>0</td>\n",
       "      <td>0</td>\n",
       "      <td>7</td>\n",
       "      <td>2007</td>\n",
       "    </tr>\n",
       "    <tr>\n",
       "      <th>871</th>\n",
       "      <td>20</td>\n",
       "      <td>60.0</td>\n",
       "      <td>6600</td>\n",
       "      <td>5</td>\n",
       "      <td>5</td>\n",
       "      <td>1962</td>\n",
       "      <td>1962</td>\n",
       "      <td>0.0</td>\n",
       "      <td>0</td>\n",
       "      <td>0</td>\n",
       "      <td>...</td>\n",
       "      <td>308</td>\n",
       "      <td>0</td>\n",
       "      <td>0</td>\n",
       "      <td>0</td>\n",
       "      <td>0</td>\n",
       "      <td>0</td>\n",
       "      <td>0</td>\n",
       "      <td>0</td>\n",
       "      <td>8</td>\n",
       "      <td>2009</td>\n",
       "    </tr>\n",
       "    <tr>\n",
       "      <th>93</th>\n",
       "      <td>30</td>\n",
       "      <td>80.0</td>\n",
       "      <td>13360</td>\n",
       "      <td>5</td>\n",
       "      <td>7</td>\n",
       "      <td>1921</td>\n",
       "      <td>2006</td>\n",
       "      <td>0.0</td>\n",
       "      <td>713</td>\n",
       "      <td>0</td>\n",
       "      <td>...</td>\n",
       "      <td>432</td>\n",
       "      <td>0</td>\n",
       "      <td>0</td>\n",
       "      <td>44</td>\n",
       "      <td>0</td>\n",
       "      <td>0</td>\n",
       "      <td>0</td>\n",
       "      <td>0</td>\n",
       "      <td>8</td>\n",
       "      <td>2009</td>\n",
       "    </tr>\n",
       "    <tr>\n",
       "      <th>818</th>\n",
       "      <td>20</td>\n",
       "      <td>NaN</td>\n",
       "      <td>13265</td>\n",
       "      <td>8</td>\n",
       "      <td>5</td>\n",
       "      <td>2002</td>\n",
       "      <td>2002</td>\n",
       "      <td>148.0</td>\n",
       "      <td>1218</td>\n",
       "      <td>0</td>\n",
       "      <td>...</td>\n",
       "      <td>857</td>\n",
       "      <td>150</td>\n",
       "      <td>59</td>\n",
       "      <td>0</td>\n",
       "      <td>0</td>\n",
       "      <td>0</td>\n",
       "      <td>0</td>\n",
       "      <td>0</td>\n",
       "      <td>7</td>\n",
       "      <td>2008</td>\n",
       "    </tr>\n",
       "    <tr>\n",
       "      <th>303</th>\n",
       "      <td>20</td>\n",
       "      <td>118.0</td>\n",
       "      <td>13704</td>\n",
       "      <td>7</td>\n",
       "      <td>5</td>\n",
       "      <td>2001</td>\n",
       "      <td>2002</td>\n",
       "      <td>150.0</td>\n",
       "      <td>0</td>\n",
       "      <td>0</td>\n",
       "      <td>...</td>\n",
       "      <td>843</td>\n",
       "      <td>468</td>\n",
       "      <td>81</td>\n",
       "      <td>0</td>\n",
       "      <td>0</td>\n",
       "      <td>0</td>\n",
       "      <td>0</td>\n",
       "      <td>0</td>\n",
       "      <td>1</td>\n",
       "      <td>2006</td>\n",
       "    </tr>\n",
       "  </tbody>\n",
       "</table>\n",
       "<p>5 rows × 36 columns</p>\n",
       "</div>"
      ],
      "text/plain": [
       "     MSSubClass  LotFrontage  LotArea  OverallQual  OverallCond  YearBuilt  \\\n",
       "Id                                                                           \n",
       "619          20         90.0    11694            9            5       2007   \n",
       "871          20         60.0     6600            5            5       1962   \n",
       "93           30         80.0    13360            5            7       1921   \n",
       "818          20          NaN    13265            8            5       2002   \n",
       "303          20        118.0    13704            7            5       2001   \n",
       "\n",
       "     YearRemodAdd  MasVnrArea  BsmtFinSF1  BsmtFinSF2  ...  GarageArea  \\\n",
       "Id                                                     ...               \n",
       "619          2007       452.0          48           0  ...         774   \n",
       "871          1962         0.0           0           0  ...         308   \n",
       "93           2006         0.0         713           0  ...         432   \n",
       "818          2002       148.0        1218           0  ...         857   \n",
       "303          2002       150.0           0           0  ...         843   \n",
       "\n",
       "     WoodDeckSF  OpenPorchSF  EnclosedPorch  3SsnPorch  ScreenPorch  PoolArea  \\\n",
       "Id                                                                              \n",
       "619           0          108              0          0          260         0   \n",
       "871           0            0              0          0            0         0   \n",
       "93            0            0             44          0            0         0   \n",
       "818         150           59              0          0            0         0   \n",
       "303         468           81              0          0            0         0   \n",
       "\n",
       "     MiscVal  MoSold  YrSold  \n",
       "Id                            \n",
       "619        0       7    2007  \n",
       "871        0       8    2009  \n",
       "93         0       8    2009  \n",
       "818        0       7    2008  \n",
       "303        0       1    2006  \n",
       "\n",
       "[5 rows x 36 columns]"
      ]
     },
     "execution_count": 3,
     "metadata": {},
     "output_type": "execute_result"
    }
   ],
   "source": [
    "X_train.head()"
   ]
  },
  {
   "cell_type": "markdown",
   "id": "300fb071",
   "metadata": {
    "papermill": {
     "duration": 0.00861,
     "end_time": "2022-11-17T09:35:48.126782",
     "exception": false,
     "start_time": "2022-11-17T09:35:48.118172",
     "status": "completed"
    },
    "tags": []
   },
   "source": [
    "You can already see a few missing values in the first several rows.  In the next step, you'll obtain a more comprehensive understanding of the missing values in the dataset.\n",
    "\n",
    "# Step 1: Preliminary investigation\n",
    "\n",
    "Run the code cell below without changes."
   ]
  },
  {
   "cell_type": "code",
   "execution_count": 4,
   "id": "fe34e22d",
   "metadata": {
    "execution": {
     "iopub.execute_input": "2022-11-17T09:35:48.147036Z",
     "iopub.status.busy": "2022-11-17T09:35:48.146065Z",
     "iopub.status.idle": "2022-11-17T09:35:48.154495Z",
     "shell.execute_reply": "2022-11-17T09:35:48.152971Z"
    },
    "papermill": {
     "duration": 0.02128,
     "end_time": "2022-11-17T09:35:48.156902",
     "exception": false,
     "start_time": "2022-11-17T09:35:48.135622",
     "status": "completed"
    },
    "tags": []
   },
   "outputs": [
    {
     "name": "stdout",
     "output_type": "stream",
     "text": [
      "(1168, 36)\n",
      "LotFrontage    212\n",
      "MasVnrArea       6\n",
      "GarageYrBlt     58\n",
      "dtype: int64\n"
     ]
    }
   ],
   "source": [
    "# Shape of training data (num_rows, num_columns)\n",
    "print(X_train.shape)\n",
    "\n",
    "# Number of missing values in each column of training data\n",
    "missing_val_count_by_column = (X_train.isnull().sum())\n",
    "print(missing_val_count_by_column[missing_val_count_by_column > 0])"
   ]
  },
  {
   "cell_type": "markdown",
   "id": "2bf7c281",
   "metadata": {
    "papermill": {
     "duration": 0.008431,
     "end_time": "2022-11-17T09:35:48.174277",
     "exception": false,
     "start_time": "2022-11-17T09:35:48.165846",
     "status": "completed"
    },
    "tags": []
   },
   "source": [
    "### Part A\n",
    "\n",
    "Use the above output to answer the questions below."
   ]
  },
  {
   "cell_type": "code",
   "execution_count": 5,
   "id": "e822223c",
   "metadata": {
    "execution": {
     "iopub.execute_input": "2022-11-17T09:35:48.194158Z",
     "iopub.status.busy": "2022-11-17T09:35:48.193090Z",
     "iopub.status.idle": "2022-11-17T09:35:48.202232Z",
     "shell.execute_reply": "2022-11-17T09:35:48.201507Z"
    },
    "papermill": {
     "duration": 0.020915,
     "end_time": "2022-11-17T09:35:48.204076",
     "exception": false,
     "start_time": "2022-11-17T09:35:48.183161",
     "status": "completed"
    },
    "tags": []
   },
   "outputs": [
    {
     "data": {
      "application/javascript": [
       "parent.postMessage({\"jupyterEvent\": \"custom.exercise_interaction\", \"data\": {\"outcomeType\": 1, \"valueTowardsCompletion\": 1.0, \"interactionType\": 1, \"questionType\": 1, \"questionId\": \"1.1_InvestigateEquality\", \"learnToolsVersion\": \"0.3.4\", \"failureMessage\": \"\", \"exceptionClass\": \"\", \"trace\": \"\"}}, \"*\")"
      ],
      "text/plain": [
       "<IPython.core.display.Javascript object>"
      ]
     },
     "metadata": {},
     "output_type": "display_data"
    },
    {
     "data": {
      "text/markdown": [
       "<span style=\"color:#33cc33\">Correct</span>"
      ],
      "text/plain": [
       "Correct"
      ]
     },
     "metadata": {},
     "output_type": "display_data"
    }
   ],
   "source": [
    "# Fill in the line below: How many rows are in the training data?\n",
    "num_rows = 1168\n",
    "\n",
    "# Fill in the line below: How many columns in the training data\n",
    "# have missing values?\n",
    "num_cols_with_missing = 3\n",
    "\n",
    "# Fill in the line below: How many missing entries are contained in \n",
    "# all of the training data?\n",
    "tot_missing = 276\n",
    "\n",
    "# Check your answers\n",
    "step_1.a.check()"
   ]
  },
  {
   "cell_type": "code",
   "execution_count": 6,
   "id": "abe197d3",
   "metadata": {
    "execution": {
     "iopub.execute_input": "2022-11-17T09:35:48.224045Z",
     "iopub.status.busy": "2022-11-17T09:35:48.223588Z",
     "iopub.status.idle": "2022-11-17T09:35:48.227888Z",
     "shell.execute_reply": "2022-11-17T09:35:48.226887Z"
    },
    "papermill": {
     "duration": 0.016939,
     "end_time": "2022-11-17T09:35:48.230172",
     "exception": false,
     "start_time": "2022-11-17T09:35:48.213233",
     "status": "completed"
    },
    "tags": []
   },
   "outputs": [],
   "source": [
    "# Lines below will give you a hint or solution code\n",
    "#step_1.a.hint()\n",
    "#step_1.a.solution()"
   ]
  },
  {
   "cell_type": "markdown",
   "id": "d8b28df3",
   "metadata": {
    "papermill": {
     "duration": 0.008874,
     "end_time": "2022-11-17T09:35:48.248365",
     "exception": false,
     "start_time": "2022-11-17T09:35:48.239491",
     "status": "completed"
    },
    "tags": []
   },
   "source": [
    "### Part B\n",
    "Considering your answers above, what do you think is likely the best approach to dealing with the missing values?"
   ]
  },
  {
   "cell_type": "code",
   "execution_count": 7,
   "id": "3cfaee83",
   "metadata": {
    "execution": {
     "iopub.execute_input": "2022-11-17T09:35:48.268367Z",
     "iopub.status.busy": "2022-11-17T09:35:48.267941Z",
     "iopub.status.idle": "2022-11-17T09:35:48.276419Z",
     "shell.execute_reply": "2022-11-17T09:35:48.275395Z"
    },
    "papermill": {
     "duration": 0.02126,
     "end_time": "2022-11-17T09:35:48.278762",
     "exception": false,
     "start_time": "2022-11-17T09:35:48.257502",
     "status": "completed"
    },
    "tags": []
   },
   "outputs": [
    {
     "data": {
      "application/javascript": [
       "parent.postMessage({\"jupyterEvent\": \"custom.exercise_interaction\", \"data\": {\"outcomeType\": 1, \"valueTowardsCompletion\": 1.0, \"interactionType\": 1, \"questionType\": 4, \"questionId\": \"1.2_InvestigateThought\", \"learnToolsVersion\": \"0.3.4\", \"failureMessage\": \"\", \"exceptionClass\": \"\", \"trace\": \"\"}}, \"*\")"
      ],
      "text/plain": [
       "<IPython.core.display.Javascript object>"
      ]
     },
     "metadata": {},
     "output_type": "display_data"
    },
    {
     "data": {
      "text/markdown": [
       "<span style=\"color:#33cc33\">Correct:</span> \n",
       "\n",
       "Since there are relatively few missing entries in the data (the column with the greatest percentage of missing values is missing less than 20% of its entries), we can expect that dropping columns is unlikely to yield good results.  This is because we'd be throwing away a lot of valuable data, and so imputation will likely perform better."
      ],
      "text/plain": [
       "Correct: \n",
       "\n",
       "Since there are relatively few missing entries in the data (the column with the greatest percentage of missing values is missing less than 20% of its entries), we can expect that dropping columns is unlikely to yield good results.  This is because we'd be throwing away a lot of valuable data, and so imputation will likely perform better."
      ]
     },
     "metadata": {},
     "output_type": "display_data"
    }
   ],
   "source": [
    "# Check your answer (Run this code cell to receive credit!)\n",
    "step_1.b.check()"
   ]
  },
  {
   "cell_type": "code",
   "execution_count": 8,
   "id": "8474a654",
   "metadata": {
    "execution": {
     "iopub.execute_input": "2022-11-17T09:35:48.299851Z",
     "iopub.status.busy": "2022-11-17T09:35:48.299201Z",
     "iopub.status.idle": "2022-11-17T09:35:48.303858Z",
     "shell.execute_reply": "2022-11-17T09:35:48.303131Z"
    },
    "papermill": {
     "duration": 0.017663,
     "end_time": "2022-11-17T09:35:48.305960",
     "exception": false,
     "start_time": "2022-11-17T09:35:48.288297",
     "status": "completed"
    },
    "tags": []
   },
   "outputs": [],
   "source": [
    "#step_1.b.hint()"
   ]
  },
  {
   "cell_type": "markdown",
   "id": "958d5cbc",
   "metadata": {
    "papermill": {
     "duration": 0.009126,
     "end_time": "2022-11-17T09:35:48.324295",
     "exception": false,
     "start_time": "2022-11-17T09:35:48.315169",
     "status": "completed"
    },
    "tags": []
   },
   "source": [
    "To compare different approaches to dealing with missing values, you'll use the same `score_dataset()` function from the tutorial.  This function reports the [mean absolute error](https://en.wikipedia.org/wiki/Mean_absolute_error) (MAE) from a random forest model."
   ]
  },
  {
   "cell_type": "code",
   "execution_count": 9,
   "id": "c2a0a199",
   "metadata": {
    "execution": {
     "iopub.execute_input": "2022-11-17T09:35:48.345340Z",
     "iopub.status.busy": "2022-11-17T09:35:48.344649Z",
     "iopub.status.idle": "2022-11-17T09:35:48.536248Z",
     "shell.execute_reply": "2022-11-17T09:35:48.535084Z"
    },
    "papermill": {
     "duration": 0.205758,
     "end_time": "2022-11-17T09:35:48.539638",
     "exception": false,
     "start_time": "2022-11-17T09:35:48.333880",
     "status": "completed"
    },
    "tags": []
   },
   "outputs": [],
   "source": [
    "from sklearn.ensemble import RandomForestRegressor\n",
    "from sklearn.metrics import mean_absolute_error\n",
    "\n",
    "# Function for comparing different approaches\n",
    "def score_dataset(X_train, X_valid, y_train, y_valid):\n",
    "    model = RandomForestRegressor(n_estimators=100, random_state=0)\n",
    "    model.fit(X_train, y_train)\n",
    "    preds = model.predict(X_valid)\n",
    "    return mean_absolute_error(y_valid, preds)"
   ]
  },
  {
   "cell_type": "markdown",
   "id": "599465d2",
   "metadata": {
    "papermill": {
     "duration": 0.008687,
     "end_time": "2022-11-17T09:35:48.558063",
     "exception": false,
     "start_time": "2022-11-17T09:35:48.549376",
     "status": "completed"
    },
    "tags": []
   },
   "source": [
    "# Step 2: Drop columns with missing values\n",
    "\n",
    "In this step, you'll preprocess the data in `X_train` and `X_valid` to remove columns with missing values.  Set the preprocessed DataFrames to `reduced_X_train` and `reduced_X_valid`, respectively.  "
   ]
  },
  {
   "cell_type": "code",
   "execution_count": 10,
   "id": "c4fbf855",
   "metadata": {
    "execution": {
     "iopub.execute_input": "2022-11-17T09:35:48.578538Z",
     "iopub.status.busy": "2022-11-17T09:35:48.577834Z",
     "iopub.status.idle": "2022-11-17T09:35:48.606810Z",
     "shell.execute_reply": "2022-11-17T09:35:48.605622Z"
    },
    "papermill": {
     "duration": 0.042312,
     "end_time": "2022-11-17T09:35:48.609369",
     "exception": false,
     "start_time": "2022-11-17T09:35:48.567057",
     "status": "completed"
    },
    "tags": []
   },
   "outputs": [
    {
     "data": {
      "application/javascript": [
       "parent.postMessage({\"jupyterEvent\": \"custom.exercise_interaction\", \"data\": {\"outcomeType\": 1, \"valueTowardsCompletion\": 1.0, \"interactionType\": 1, \"questionType\": 2, \"questionId\": \"2_DropMissing\", \"learnToolsVersion\": \"0.3.4\", \"failureMessage\": \"\", \"exceptionClass\": \"\", \"trace\": \"\"}}, \"*\")"
      ],
      "text/plain": [
       "<IPython.core.display.Javascript object>"
      ]
     },
     "metadata": {},
     "output_type": "display_data"
    },
    {
     "data": {
      "text/markdown": [
       "<span style=\"color:#33cc33\">Correct</span>"
      ],
      "text/plain": [
       "Correct"
      ]
     },
     "metadata": {},
     "output_type": "display_data"
    }
   ],
   "source": [
    "# Fill in the line below: get names of columns with missing values\n",
    "cols_missing =  [col for col in X_train.columns if X_train[col].isnull().any()]# Your code here\n",
    "\n",
    "# Fill in the lines below: drop columns in training and validation data\n",
    "reduced_X_train = X_train.drop(cols_missing, axis = 1)\n",
    "reduced_X_valid = X_valid.drop(cols_missing, axis = 1)\n",
    "\n",
    "# Check your answers\n",
    "step_2.check()"
   ]
  },
  {
   "cell_type": "code",
   "execution_count": 11,
   "id": "6a5a1c48",
   "metadata": {
    "execution": {
     "iopub.execute_input": "2022-11-17T09:35:48.631135Z",
     "iopub.status.busy": "2022-11-17T09:35:48.629829Z",
     "iopub.status.idle": "2022-11-17T09:35:48.635029Z",
     "shell.execute_reply": "2022-11-17T09:35:48.634079Z"
    },
    "papermill": {
     "duration": 0.018105,
     "end_time": "2022-11-17T09:35:48.637355",
     "exception": false,
     "start_time": "2022-11-17T09:35:48.619250",
     "status": "completed"
    },
    "tags": []
   },
   "outputs": [],
   "source": [
    "# Lines below will give you a hint or solution code\n",
    "#step_2.hint()\n",
    "#step_2.solution()"
   ]
  },
  {
   "cell_type": "markdown",
   "id": "adc9e3f9",
   "metadata": {
    "papermill": {
     "duration": 0.008959,
     "end_time": "2022-11-17T09:35:48.655717",
     "exception": false,
     "start_time": "2022-11-17T09:35:48.646758",
     "status": "completed"
    },
    "tags": []
   },
   "source": [
    "Run the next code cell without changes to obtain the MAE for this approach."
   ]
  },
  {
   "cell_type": "code",
   "execution_count": 12,
   "id": "5e916c06",
   "metadata": {
    "execution": {
     "iopub.execute_input": "2022-11-17T09:35:48.676401Z",
     "iopub.status.busy": "2022-11-17T09:35:48.676019Z",
     "iopub.status.idle": "2022-11-17T09:35:49.804677Z",
     "shell.execute_reply": "2022-11-17T09:35:49.803533Z"
    },
    "papermill": {
     "duration": 1.141671,
     "end_time": "2022-11-17T09:35:49.806918",
     "exception": false,
     "start_time": "2022-11-17T09:35:48.665247",
     "status": "completed"
    },
    "tags": []
   },
   "outputs": [
    {
     "name": "stdout",
     "output_type": "stream",
     "text": [
      "MAE (Drop columns with missing values):\n",
      "17837.82570776256\n"
     ]
    }
   ],
   "source": [
    "print(\"MAE (Drop columns with missing values):\")\n",
    "print(score_dataset(reduced_X_train, reduced_X_valid, y_train, y_valid))"
   ]
  },
  {
   "cell_type": "markdown",
   "id": "5c644e2a",
   "metadata": {
    "papermill": {
     "duration": 0.009268,
     "end_time": "2022-11-17T09:35:49.826387",
     "exception": false,
     "start_time": "2022-11-17T09:35:49.817119",
     "status": "completed"
    },
    "tags": []
   },
   "source": [
    "# Step 3: Imputation\n",
    "\n",
    "### Part A\n",
    "\n",
    "Use the next code cell to impute missing values with the mean value along each column.  Set the preprocessed DataFrames to `imputed_X_train` and `imputed_X_valid`.  Make sure that the column names match those in `X_train` and `X_valid`."
   ]
  },
  {
   "cell_type": "code",
   "execution_count": 13,
   "id": "17da82e5",
   "metadata": {
    "execution": {
     "iopub.execute_input": "2022-11-17T09:35:49.848028Z",
     "iopub.status.busy": "2022-11-17T09:35:49.847115Z",
     "iopub.status.idle": "2022-11-17T09:35:49.882045Z",
     "shell.execute_reply": "2022-11-17T09:35:49.880855Z"
    },
    "papermill": {
     "duration": 0.048238,
     "end_time": "2022-11-17T09:35:49.884402",
     "exception": false,
     "start_time": "2022-11-17T09:35:49.836164",
     "status": "completed"
    },
    "tags": []
   },
   "outputs": [
    {
     "data": {
      "application/javascript": [
       "parent.postMessage({\"jupyterEvent\": \"custom.exercise_interaction\", \"data\": {\"outcomeType\": 1, \"valueTowardsCompletion\": 1.0, \"interactionType\": 1, \"questionType\": 2, \"questionId\": \"3.1_ImputeCode\", \"learnToolsVersion\": \"0.3.4\", \"failureMessage\": \"\", \"exceptionClass\": \"\", \"trace\": \"\"}}, \"*\")"
      ],
      "text/plain": [
       "<IPython.core.display.Javascript object>"
      ]
     },
     "metadata": {},
     "output_type": "display_data"
    },
    {
     "data": {
      "text/markdown": [
       "<span style=\"color:#33cc33\">Correct</span>"
      ],
      "text/plain": [
       "Correct"
      ]
     },
     "metadata": {},
     "output_type": "display_data"
    }
   ],
   "source": [
    "from sklearn.impute import SimpleImputer\n",
    "\n",
    "# Fill in the lines below: imputation\n",
    "my_imp = SimpleImputer() # Your code here\n",
    "imputed_X_train = pd.DataFrame(my_imp.fit_transform(X_train))\n",
    "imputed_X_valid = pd.DataFrame(my_imp.transform(X_valid))\n",
    "\n",
    "# Fill in the lines below: imputation removed column names; put them back\n",
    "imputed_X_train.columns = X_train.columns\n",
    "imputed_X_valid.columns = X_valid.columns\n",
    "\n",
    "# Check your answers\n",
    "step_3.a.check()"
   ]
  },
  {
   "cell_type": "code",
   "execution_count": 14,
   "id": "acee5f81",
   "metadata": {
    "execution": {
     "iopub.execute_input": "2022-11-17T09:35:49.906743Z",
     "iopub.status.busy": "2022-11-17T09:35:49.906104Z",
     "iopub.status.idle": "2022-11-17T09:35:49.910503Z",
     "shell.execute_reply": "2022-11-17T09:35:49.909737Z"
    },
    "papermill": {
     "duration": 0.018318,
     "end_time": "2022-11-17T09:35:49.912577",
     "exception": false,
     "start_time": "2022-11-17T09:35:49.894259",
     "status": "completed"
    },
    "tags": []
   },
   "outputs": [],
   "source": [
    "# Lines below will give you a hint or solution code\n",
    "#step_3.a.hint()\n",
    "#step_3.a.solution()"
   ]
  },
  {
   "cell_type": "markdown",
   "id": "6f7969e7",
   "metadata": {
    "papermill": {
     "duration": 0.009639,
     "end_time": "2022-11-17T09:35:49.932163",
     "exception": false,
     "start_time": "2022-11-17T09:35:49.922524",
     "status": "completed"
    },
    "tags": []
   },
   "source": [
    "Run the next code cell without changes to obtain the MAE for this approach."
   ]
  },
  {
   "cell_type": "code",
   "execution_count": 15,
   "id": "9801b3d9",
   "metadata": {
    "execution": {
     "iopub.execute_input": "2022-11-17T09:35:49.953943Z",
     "iopub.status.busy": "2022-11-17T09:35:49.953511Z",
     "iopub.status.idle": "2022-11-17T09:35:51.187977Z",
     "shell.execute_reply": "2022-11-17T09:35:51.186805Z"
    },
    "papermill": {
     "duration": 1.248732,
     "end_time": "2022-11-17T09:35:51.190974",
     "exception": false,
     "start_time": "2022-11-17T09:35:49.942242",
     "status": "completed"
    },
    "tags": []
   },
   "outputs": [
    {
     "name": "stdout",
     "output_type": "stream",
     "text": [
      "MAE (Imputation):\n",
      "18062.894611872147\n"
     ]
    }
   ],
   "source": [
    "print(\"MAE (Imputation):\")\n",
    "print(score_dataset(imputed_X_train, imputed_X_valid, y_train, y_valid))"
   ]
  },
  {
   "cell_type": "markdown",
   "id": "225a1f6a",
   "metadata": {
    "papermill": {
     "duration": 0.009611,
     "end_time": "2022-11-17T09:35:51.211501",
     "exception": false,
     "start_time": "2022-11-17T09:35:51.201890",
     "status": "completed"
    },
    "tags": []
   },
   "source": [
    "### Part B\n",
    "\n",
    "Compare the MAE from each approach.  Does anything surprise you about the results?  Why do you think one approach performed better than the other?"
   ]
  },
  {
   "cell_type": "code",
   "execution_count": 16,
   "id": "2f9011d8",
   "metadata": {
    "execution": {
     "iopub.execute_input": "2022-11-17T09:35:51.233169Z",
     "iopub.status.busy": "2022-11-17T09:35:51.232712Z",
     "iopub.status.idle": "2022-11-17T09:35:51.242259Z",
     "shell.execute_reply": "2022-11-17T09:35:51.241195Z"
    },
    "papermill": {
     "duration": 0.022923,
     "end_time": "2022-11-17T09:35:51.244407",
     "exception": false,
     "start_time": "2022-11-17T09:35:51.221484",
     "status": "completed"
    },
    "tags": []
   },
   "outputs": [
    {
     "data": {
      "application/javascript": [
       "parent.postMessage({\"jupyterEvent\": \"custom.exercise_interaction\", \"data\": {\"outcomeType\": 1, \"valueTowardsCompletion\": 1.0, \"interactionType\": 1, \"questionType\": 4, \"questionId\": \"3.2_ImputeThought\", \"learnToolsVersion\": \"0.3.4\", \"failureMessage\": \"\", \"exceptionClass\": \"\", \"trace\": \"\"}}, \"*\")"
      ],
      "text/plain": [
       "<IPython.core.display.Javascript object>"
      ]
     },
     "metadata": {},
     "output_type": "display_data"
    },
    {
     "data": {
      "text/markdown": [
       "<span style=\"color:#33cc33\">Correct:</span> \n",
       "\n",
       "Given that thre are so few missing values in the dataset, we'd expect imputation to perform better than dropping columns entirely.  However, we see that dropping columns performs slightly better!  While this can probably partially be attributed to noise in the dataset, another potential explanation is that the imputation method is not a great match to this dataset.  That is, maybe instead of filling in the mean value, it makes more sense to set every missing value to a value of 0, to fill in the most frequently encountered value, or to use some other method.  For instance, consider the `GarageYrBlt` column (which indicates the year that the garage was built).  It's likely that in some cases, a missing value could indicate a house that does not have a garage.  Does it make more sense to fill in the median value along each column in this case?  Or could we get better results by filling in the minimum value along each column?  It's not quite clear what's best in this case, but perhaps we can rule out some options immediately - for instance, setting missing values in this column to 0 is likely to yield horrible results!"
      ],
      "text/plain": [
       "Correct: \n",
       "\n",
       "Given that thre are so few missing values in the dataset, we'd expect imputation to perform better than dropping columns entirely.  However, we see that dropping columns performs slightly better!  While this can probably partially be attributed to noise in the dataset, another potential explanation is that the imputation method is not a great match to this dataset.  That is, maybe instead of filling in the mean value, it makes more sense to set every missing value to a value of 0, to fill in the most frequently encountered value, or to use some other method.  For instance, consider the `GarageYrBlt` column (which indicates the year that the garage was built).  It's likely that in some cases, a missing value could indicate a house that does not have a garage.  Does it make more sense to fill in the median value along each column in this case?  Or could we get better results by filling in the minimum value along each column?  It's not quite clear what's best in this case, but perhaps we can rule out some options immediately - for instance, setting missing values in this column to 0 is likely to yield horrible results!"
      ]
     },
     "metadata": {},
     "output_type": "display_data"
    }
   ],
   "source": [
    "# Check your answer (Run this code cell to receive credit!)\n",
    "step_3.b.check()"
   ]
  },
  {
   "cell_type": "code",
   "execution_count": 17,
   "id": "6e4530e0",
   "metadata": {
    "execution": {
     "iopub.execute_input": "2022-11-17T09:35:51.266473Z",
     "iopub.status.busy": "2022-11-17T09:35:51.266040Z",
     "iopub.status.idle": "2022-11-17T09:35:51.271300Z",
     "shell.execute_reply": "2022-11-17T09:35:51.270248Z"
    },
    "papermill": {
     "duration": 0.01876,
     "end_time": "2022-11-17T09:35:51.273401",
     "exception": false,
     "start_time": "2022-11-17T09:35:51.254641",
     "status": "completed"
    },
    "tags": []
   },
   "outputs": [],
   "source": [
    "#step_3.b.hint()"
   ]
  },
  {
   "cell_type": "markdown",
   "id": "efb23b03",
   "metadata": {
    "papermill": {
     "duration": 0.00976,
     "end_time": "2022-11-17T09:35:51.293548",
     "exception": false,
     "start_time": "2022-11-17T09:35:51.283788",
     "status": "completed"
    },
    "tags": []
   },
   "source": [
    "# Step 4: Generate test predictions\n",
    "\n",
    "In this final step, you'll use any approach of your choosing to deal with missing values.  Once you've preprocessed the training and validation features, you'll train and evaluate a random forest model.  Then, you'll preprocess the test data before generating predictions that can be submitted to the competition!\n",
    "\n",
    "### Part A\n",
    "\n",
    "Use the next code cell to preprocess the training and validation data.  Set the preprocessed DataFrames to `final_X_train` and `final_X_valid`.  **You can use any approach of your choosing here!**  in order for this step to be marked as correct, you need only ensure:\n",
    "- the preprocessed DataFrames have the same number of columns,\n",
    "- the preprocessed DataFrames have no missing values, \n",
    "- `final_X_train` and `y_train` have the same number of rows, and\n",
    "- `final_X_valid` and `y_valid` have the same number of rows."
   ]
  },
  {
   "cell_type": "code",
   "execution_count": 18,
   "id": "cfe40e45",
   "metadata": {
    "execution": {
     "iopub.execute_input": "2022-11-17T09:35:51.315454Z",
     "iopub.status.busy": "2022-11-17T09:35:51.315024Z",
     "iopub.status.idle": "2022-11-17T09:35:51.344064Z",
     "shell.execute_reply": "2022-11-17T09:35:51.342961Z"
    },
    "papermill": {
     "duration": 0.042596,
     "end_time": "2022-11-17T09:35:51.346257",
     "exception": false,
     "start_time": "2022-11-17T09:35:51.303661",
     "status": "completed"
    },
    "tags": []
   },
   "outputs": [
    {
     "data": {
      "application/javascript": [
       "parent.postMessage({\"jupyterEvent\": \"custom.exercise_interaction\", \"data\": {\"outcomeType\": 1, \"valueTowardsCompletion\": 1.0, \"interactionType\": 1, \"questionType\": 2, \"questionId\": \"4.1_PredsCodeA\", \"learnToolsVersion\": \"0.3.4\", \"failureMessage\": \"\", \"exceptionClass\": \"\", \"trace\": \"\"}}, \"*\")"
      ],
      "text/plain": [
       "<IPython.core.display.Javascript object>"
      ]
     },
     "metadata": {},
     "output_type": "display_data"
    },
    {
     "data": {
      "text/markdown": [
       "<span style=\"color:#33cc33\">Correct</span>"
      ],
      "text/plain": [
       "Correct"
      ]
     },
     "metadata": {},
     "output_type": "display_data"
    }
   ],
   "source": [
    "final_imp = SimpleImputer()\n",
    "# Preprocessed training and validation features\n",
    "final_X_train = pd.DataFrame(final_imp.fit_transform(X_train))\n",
    "final_X_valid = pd.DataFrame(final_imp.transform(X_valid))\n",
    "\n",
    "# Check your answers\n",
    "step_4.a.check()"
   ]
  },
  {
   "cell_type": "code",
   "execution_count": 19,
   "id": "69acc575",
   "metadata": {
    "execution": {
     "iopub.execute_input": "2022-11-17T09:35:51.370021Z",
     "iopub.status.busy": "2022-11-17T09:35:51.369030Z",
     "iopub.status.idle": "2022-11-17T09:35:51.373000Z",
     "shell.execute_reply": "2022-11-17T09:35:51.372279Z"
    },
    "papermill": {
     "duration": 0.017625,
     "end_time": "2022-11-17T09:35:51.374842",
     "exception": false,
     "start_time": "2022-11-17T09:35:51.357217",
     "status": "completed"
    },
    "tags": []
   },
   "outputs": [],
   "source": [
    "# Lines below will give you a hint or solution code\n",
    "#step_4.a.hint()\n",
    "#step_4.a.solution()"
   ]
  },
  {
   "cell_type": "markdown",
   "id": "12311bcb",
   "metadata": {
    "papermill": {
     "duration": 0.010459,
     "end_time": "2022-11-17T09:35:51.395959",
     "exception": false,
     "start_time": "2022-11-17T09:35:51.385500",
     "status": "completed"
    },
    "tags": []
   },
   "source": [
    "Run the next code cell to train and evaluate a random forest model.  (*Note that we don't use the `score_dataset()` function above, because we will soon use the trained model to generate test predictions!*)"
   ]
  },
  {
   "cell_type": "code",
   "execution_count": 20,
   "id": "437aab74",
   "metadata": {
    "execution": {
     "iopub.execute_input": "2022-11-17T09:35:51.418951Z",
     "iopub.status.busy": "2022-11-17T09:35:51.418282Z",
     "iopub.status.idle": "2022-11-17T09:35:52.618003Z",
     "shell.execute_reply": "2022-11-17T09:35:52.616557Z"
    },
    "papermill": {
     "duration": 1.213975,
     "end_time": "2022-11-17T09:35:52.620552",
     "exception": false,
     "start_time": "2022-11-17T09:35:51.406577",
     "status": "completed"
    },
    "tags": []
   },
   "outputs": [
    {
     "name": "stdout",
     "output_type": "stream",
     "text": [
      "MAE (Your approach):\n",
      "18062.894611872147\n"
     ]
    }
   ],
   "source": [
    "# Define and fit model\n",
    "model = RandomForestRegressor(n_estimators=100, random_state=0)\n",
    "model.fit(final_X_train, y_train)\n",
    "\n",
    "# Get validation predictions and MAE\n",
    "preds_valid = model.predict(final_X_valid)\n",
    "print(\"MAE (Your approach):\")\n",
    "print(mean_absolute_error(y_valid, preds_valid))"
   ]
  },
  {
   "cell_type": "markdown",
   "id": "7aa6c7e2",
   "metadata": {
    "papermill": {
     "duration": 0.010967,
     "end_time": "2022-11-17T09:35:52.642298",
     "exception": false,
     "start_time": "2022-11-17T09:35:52.631331",
     "status": "completed"
    },
    "tags": []
   },
   "source": [
    "### Part B\n",
    "\n",
    "Use the next code cell to preprocess your test data.  Make sure that you use a method that agrees with how you preprocessed the training and validation data, and set the preprocessed test features to `final_X_test`.\n",
    "\n",
    "Then, use the preprocessed test features and the trained model to generate test predictions in `preds_test`.\n",
    "\n",
    "In order for this step to be marked correct, you need only ensure:\n",
    "- the preprocessed test DataFrame has no missing values, and\n",
    "- `final_X_test` has the same number of rows as `X_test`."
   ]
  },
  {
   "cell_type": "code",
   "execution_count": 21,
   "id": "064ab922",
   "metadata": {
    "execution": {
     "iopub.execute_input": "2022-11-17T09:35:52.666486Z",
     "iopub.status.busy": "2022-11-17T09:35:52.665509Z",
     "iopub.status.idle": "2022-11-17T09:35:52.722392Z",
     "shell.execute_reply": "2022-11-17T09:35:52.721229Z"
    },
    "papermill": {
     "duration": 0.071217,
     "end_time": "2022-11-17T09:35:52.724581",
     "exception": false,
     "start_time": "2022-11-17T09:35:52.653364",
     "status": "completed"
    },
    "tags": []
   },
   "outputs": [
    {
     "data": {
      "application/javascript": [
       "parent.postMessage({\"jupyterEvent\": \"custom.exercise_interaction\", \"data\": {\"outcomeType\": 1, \"valueTowardsCompletion\": 1.0, \"interactionType\": 1, \"questionType\": 2, \"questionId\": \"4.2_PredsCodeB\", \"learnToolsVersion\": \"0.3.4\", \"failureMessage\": \"\", \"exceptionClass\": \"\", \"trace\": \"\"}}, \"*\")"
      ],
      "text/plain": [
       "<IPython.core.display.Javascript object>"
      ]
     },
     "metadata": {},
     "output_type": "display_data"
    },
    {
     "data": {
      "text/markdown": [
       "<span style=\"color:#33cc33\">Correct</span>"
      ],
      "text/plain": [
       "Correct"
      ]
     },
     "metadata": {},
     "output_type": "display_data"
    }
   ],
   "source": [
    "# Fill in the line below: preprocess test data\n",
    "final_X_test = pd.DataFrame(final_imp.transform(X_test))\n",
    "\n",
    "\n",
    "# Fill in the line below: get test predictions\n",
    "preds_test = model.predict(final_X_test)\n",
    "\n",
    "# Check your answers\n",
    "step_4.b.check()"
   ]
  },
  {
   "cell_type": "code",
   "execution_count": 22,
   "id": "ec92f493",
   "metadata": {
    "execution": {
     "iopub.execute_input": "2022-11-17T09:35:52.748112Z",
     "iopub.status.busy": "2022-11-17T09:35:52.747702Z",
     "iopub.status.idle": "2022-11-17T09:35:52.760933Z",
     "shell.execute_reply": "2022-11-17T09:35:52.759856Z"
    },
    "papermill": {
     "duration": 0.027506,
     "end_time": "2022-11-17T09:35:52.763138",
     "exception": false,
     "start_time": "2022-11-17T09:35:52.735632",
     "status": "completed"
    },
    "tags": []
   },
   "outputs": [
    {
     "data": {
      "application/javascript": [
       "parent.postMessage({\"jupyterEvent\": \"custom.exercise_interaction\", \"data\": {\"interactionType\": 2, \"questionType\": 2, \"questionId\": \"4.2_PredsCodeB\", \"learnToolsVersion\": \"0.3.4\", \"valueTowardsCompletion\": 0.0, \"failureMessage\": \"\", \"exceptionClass\": \"\", \"trace\": \"\", \"outcomeType\": 4}}, \"*\")"
      ],
      "text/plain": [
       "<IPython.core.display.Javascript object>"
      ]
     },
     "metadata": {},
     "output_type": "display_data"
    },
    {
     "data": {
      "text/markdown": [
       "<span style=\"color:#3366cc\">Hint:</span> After preprocessing the test data, you can get the model's predictions by using `model.predict()`."
      ],
      "text/plain": [
       "Hint: After preprocessing the test data, you can get the model's predictions by using `model.predict()`."
      ]
     },
     "metadata": {},
     "output_type": "display_data"
    },
    {
     "data": {
      "application/javascript": [
       "parent.postMessage({\"jupyterEvent\": \"custom.exercise_interaction\", \"data\": {\"interactionType\": 3, \"questionType\": 2, \"questionId\": \"4.2_PredsCodeB\", \"learnToolsVersion\": \"0.3.4\", \"valueTowardsCompletion\": 0.0, \"failureMessage\": \"\", \"exceptionClass\": \"\", \"trace\": \"\", \"outcomeType\": 4}}, \"*\")"
      ],
      "text/plain": [
       "<IPython.core.display.Javascript object>"
      ]
     },
     "metadata": {},
     "output_type": "display_data"
    },
    {
     "data": {
      "text/markdown": [
       "<span style=\"color:#33cc99\">Solution:</span> \n",
       "```python\n",
       "# Preprocess test data\n",
       "final_X_test = pd.DataFrame(final_imputer.transform(X_test))\n",
       "\n",
       "# Get test predictions\n",
       "preds_test = model.predict(final_X_test)\n",
       "\n",
       "```"
      ],
      "text/plain": [
       "Solution: \n",
       "```python\n",
       "# Preprocess test data\n",
       "final_X_test = pd.DataFrame(final_imputer.transform(X_test))\n",
       "\n",
       "# Get test predictions\n",
       "preds_test = model.predict(final_X_test)\n",
       "\n",
       "```"
      ]
     },
     "metadata": {},
     "output_type": "display_data"
    }
   ],
   "source": [
    "# Lines below will give you a hint or solution code\n",
    "step_4.b.hint()\n",
    "step_4.b.solution()"
   ]
  },
  {
   "cell_type": "markdown",
   "id": "edeb13c7",
   "metadata": {
    "papermill": {
     "duration": 0.010982,
     "end_time": "2022-11-17T09:35:52.785377",
     "exception": false,
     "start_time": "2022-11-17T09:35:52.774395",
     "status": "completed"
    },
    "tags": []
   },
   "source": [
    "Run the next code cell without changes to save your results to a CSV file that can be submitted directly to the competition."
   ]
  },
  {
   "cell_type": "code",
   "execution_count": 23,
   "id": "7e9f166b",
   "metadata": {
    "execution": {
     "iopub.execute_input": "2022-11-17T09:35:52.809602Z",
     "iopub.status.busy": "2022-11-17T09:35:52.809208Z",
     "iopub.status.idle": "2022-11-17T09:35:52.820115Z",
     "shell.execute_reply": "2022-11-17T09:35:52.819268Z"
    },
    "papermill": {
     "duration": 0.025665,
     "end_time": "2022-11-17T09:35:52.822309",
     "exception": false,
     "start_time": "2022-11-17T09:35:52.796644",
     "status": "completed"
    },
    "tags": []
   },
   "outputs": [],
   "source": [
    "# Save test predictions to file\n",
    "output = pd.DataFrame({'Id': X_test.index,\n",
    "                       'SalePrice': preds_test})\n",
    "output.to_csv('submission.csv', index=False)"
   ]
  },
  {
   "cell_type": "markdown",
   "id": "46b373af",
   "metadata": {
    "papermill": {
     "duration": 0.011002,
     "end_time": "2022-11-17T09:35:52.844721",
     "exception": false,
     "start_time": "2022-11-17T09:35:52.833719",
     "status": "completed"
    },
    "tags": []
   },
   "source": [
    "# Submit your results\n",
    "\n",
    "Once you have successfully completed Step 4, you're ready to submit your results to the leaderboard!  (_You also learned how to do this in the previous exercise.  If you need a reminder of how to do this, please use the instructions below._)  \n",
    "\n",
    "First, you'll need to join the competition if you haven't already.  So open a new window by clicking on [this link](https://www.kaggle.com/c/home-data-for-ml-course).  Then click on the **Join Competition** button.\n",
    "\n",
    "![join competition image](https://i.imgur.com/wLmFtH3.png)\n",
    "\n",
    "Next, follow the instructions below:\n",
    "1. Begin by clicking on the **Save Version** button in the top right corner of the window.  This will generate a pop-up window.  \n",
    "2. Ensure that the **Save and Run All** option is selected, and then click on the **Save** button.\n",
    "3. This generates a window in the bottom left corner of the notebook.  After it has finished running, click on the number to the right of the **Save Version** button.  This pulls up a list of versions on the right of the screen.  Click on the ellipsis **(...)** to the right of the most recent version, and select **Open in Viewer**.  This brings you into view mode of the same page. You will need to scroll down to get back to these instructions.\n",
    "4. Click on the **Output** tab on the right of the screen.  Then, click on the file you would like to submit, and click on the **Submit** button to submit your results to the leaderboard.\n",
    "\n",
    "You have now successfully submitted to the competition!\n",
    "\n",
    "If you want to keep working to improve your performance, select the **Edit** button in the top right of the screen. Then you can change your code and repeat the process. There's a lot of room to improve, and you will climb up the leaderboard as you work.\n",
    "\n",
    "\n",
    "# Keep going\n",
    "\n",
    "Move on to learn what **[categorical variables](https://www.kaggle.com/alexisbcook/categorical-variables)** are, along with how to incorporate them into your machine learning models.  Categorical variables are very common in real-world data, but you'll get an error if you try to plug them into your models without processing them first!"
   ]
  },
  {
   "cell_type": "markdown",
   "id": "9432e256",
   "metadata": {
    "papermill": {
     "duration": 0.011021,
     "end_time": "2022-11-17T09:35:52.866894",
     "exception": false,
     "start_time": "2022-11-17T09:35:52.855873",
     "status": "completed"
    },
    "tags": []
   },
   "source": [
    "---\n",
    "\n",
    "\n",
    "\n",
    "\n",
    "*Have questions or comments? Visit the [course discussion forum](https://www.kaggle.com/learn/intermediate-machine-learning/discussion) to chat with other learners.*"
   ]
  }
 ],
 "metadata": {
  "kernelspec": {
   "display_name": "Python 3",
   "language": "python",
   "name": "python3"
  },
  "language_info": {
   "codemirror_mode": {
    "name": "ipython",
    "version": 3
   },
   "file_extension": ".py",
   "mimetype": "text/x-python",
   "name": "python",
   "nbconvert_exporter": "python",
   "pygments_lexer": "ipython3",
   "version": "3.7.12"
  },
  "papermill": {
   "default_parameters": {},
   "duration": 14.820115,
   "end_time": "2022-11-17T09:35:53.600273",
   "environment_variables": {},
   "exception": null,
   "input_path": "__notebook__.ipynb",
   "output_path": "__notebook__.ipynb",
   "parameters": {},
   "start_time": "2022-11-17T09:35:38.780158",
   "version": "2.3.4"
  }
 },
 "nbformat": 4,
 "nbformat_minor": 5
}
